{
 "cells": [
  {
   "cell_type": "markdown",
   "metadata": {},
   "source": [
    "# Building SciKit-Learn Compatible Transformers\n",
    "\n",
    "Using the methods `.fit(self, X, y=None)` and `.transform(self, X)`, we can build transformers to create feature vectors in SciKit-Learn easily."
   ]
  },
  {
   "cell_type": "code",
   "execution_count": 1,
   "metadata": {
    "collapsed": true
   },
   "outputs": [],
   "source": [
    "import csv\n",
    "import re\n",
    "import numpy as np\n",
    "import random\n",
    "\n",
    "from textblob import TextBlob\n",
    "from collections import Counter\n",
    "\n",
    "from sklearn.pipeline import make_pipeline, make_union\n",
    "from sklearn.base import TransformerMixin\n",
    "from sklearn.tree import DecisionTreeClassifier\n",
    "from sklearn.feature_extraction.text import CountVectorizer\n",
    "from sklearn.cross_validation import train_test_split\n",
    "from sklearn.metrics import classification_report, confusion_matrix"
   ]
  },
  {
   "cell_type": "markdown",
   "metadata": {},
   "source": [
    "We're going to use our SMS spam data because I want to demonstrate getting features from text."
   ]
  },
  {
   "cell_type": "code",
   "execution_count": 2,
   "metadata": {
    "collapsed": false
   },
   "outputs": [],
   "source": [
    "sms_data = []\n",
    "sms_results = []\n",
    "\n",
    "with open(\"SMSSpamCollection\") as file:\n",
    "    reader = csv.reader(file, delimiter=\"\\t\")\n",
    "    for row in reader:\n",
    "        sms_data.append(row[1])\n",
    "        sms_results.append(row[0])"
   ]
  },
  {
   "cell_type": "markdown",
   "metadata": {},
   "source": [
    "This is a really bad featurizer/vectorizer. It just returns the vector `[1]`. It's a good demonstration, though.\n",
    "\n",
    "Inheriting from `TransformerMixin` adds a `.fit_transform(self, X, y=None)` method. That's all, but it's nice to denote that we're building a transformer by using it."
   ]
  },
  {
   "cell_type": "code",
   "execution_count": 3,
   "metadata": {
    "collapsed": true
   },
   "outputs": [],
   "source": [
    "class DumbFeaturizer(TransformerMixin):\n",
    "    def __init__(self):\n",
    "        pass\n",
    "    \n",
    "    def fit(self, X, y=None):\n",
    "        return self\n",
    "    \n",
    "    def transform(self, X):\n",
    "        return [[1] for _ in X]"
   ]
  },
  {
   "cell_type": "code",
   "execution_count": 4,
   "metadata": {
    "collapsed": false
   },
   "outputs": [
    {
     "data": {
      "text/plain": [
       "0.86593682699210339"
      ]
     },
     "execution_count": 4,
     "metadata": {},
     "output_type": "execute_result"
    }
   ],
   "source": [
    "pipe = make_pipeline(DumbFeaturizer(), DecisionTreeClassifier())\n",
    "pipe.fit(sms_data, sms_results)\n",
    "# Our baseline\n",
    "pipe.score(sms_data, sms_results)"
   ]
  },
  {
   "cell_type": "markdown",
   "metadata": {},
   "source": [
    "87% of our data is ham instead of spam, so we'll get a good score just by calling everything ham."
   ]
  },
  {
   "cell_type": "markdown",
   "metadata": {},
   "source": [
    "Let's build a better featurizer. We're going to send the text through a series of functions that return a value and put all those results together as a feature vector."
   ]
  },
  {
   "cell_type": "code",
   "execution_count": 5,
   "metadata": {
    "collapsed": false
   },
   "outputs": [],
   "source": [
    "def longest_run_of_capitol_letters_feature(text):\n",
    "    \"\"\"Find the longest run of capitol letters and return their length.\"\"\"\n",
    "    runs = sorted(re.findall(r\"[A-Z]+\", text), key=len)\n",
    "    if runs:\n",
    "        return len(runs[-1])\n",
    "    else:\n",
    "        return 0\n",
    "\n",
    "def percent_character_feature(char):\n",
    "    \"\"\"Return percentage of text that is a particular char compared to total text length.\"\"\"\n",
    "    def feature_fn(text):\n",
    "        periods = text.count(char)\n",
    "        return periods / len(text)\n",
    "    return feature_fn\n",
    "\n",
    "class FunctionFeaturizer(TransformerMixin):\n",
    "    def __init__(self, *featurizers):\n",
    "        self.featurizers = featurizers\n",
    "        \n",
    "    def fit(self, X, y=None):\n",
    "        \"\"\"All SciKit-Learn compatible transformers and classifiers have the\n",
    "        same interface. `fit` always returns the same object.\"\"\"\n",
    "        return self\n",
    "        \n",
    "    def transform(self, X):\n",
    "        \"\"\"Given a list of original data, return a list of feature vectors.\"\"\"\n",
    "        fvs = []\n",
    "        for datum in X:\n",
    "            fv = [f(datum) for f in self.featurizers]\n",
    "            fvs.append(fv)\n",
    "        return np.array(fvs)"
   ]
  },
  {
   "cell_type": "code",
   "execution_count": 16,
   "metadata": {
    "collapsed": false
   },
   "outputs": [
    {
     "data": {
      "text/plain": [
       "0.90811198851399855"
      ]
     },
     "execution_count": 16,
     "metadata": {},
     "output_type": "execute_result"
    }
   ],
   "source": [
    "sms_featurizer = FunctionFeaturizer(longest_run_of_capitol_letters_feature,\n",
    "                                    percent_character_feature(\".\"))\n",
    "sms_featurizer.transform(sms_data[:10])\n",
    "\n",
    "X_train, X_test, y_train, y_test = train_test_split(sms_data, sms_results)\n",
    "\n",
    "pipe = make_pipeline(sms_featurizer, DecisionTreeClassifier())\n",
    "pipe.fit(X_train, y_train)\n",
    "pipe.score(X_test, y_test)"
   ]
  },
  {
   "cell_type": "code",
   "execution_count": 7,
   "metadata": {
    "collapsed": false
   },
   "outputs": [
    {
     "name": "stdout",
     "output_type": "stream",
     "text": [
      "             precision    recall  f1-score   support\n",
      "\n",
      "        ham       0.95      0.94      0.95      1230\n",
      "       spam       0.59      0.66      0.62       163\n",
      "\n",
      "avg / total       0.91      0.91      0.91      1393\n",
      "\n"
     ]
    }
   ],
   "source": [
    "print(classification_report(pipe.predict(X_test), y_test))"
   ]
  },
  {
   "cell_type": "markdown",
   "metadata": {},
   "source": [
    "Just by looking at capitol letters and periods, we get better results. If we added a bag of words featurizer, I bet we could get them even better."
   ]
  },
  {
   "cell_type": "code",
   "execution_count": 8,
   "metadata": {
    "collapsed": false
   },
   "outputs": [],
   "source": [
    "class BagOfWordsFeaturizer(TransformerMixin):\n",
    "    def __init__(self, num_words=None):\n",
    "        self.num_words = num_words\n",
    "        \n",
    "    def fit(self, X, y=None):\n",
    "        words = []\n",
    "        for x in X:\n",
    "            x = TextBlob(x.lower())\n",
    "            words += [word.lemmatize() for word in x.words]\n",
    "        if self.num_words:\n",
    "            words = Counter(words)\n",
    "            self._vocab = [word for word, _ in words.most_common(self.num_words)]\n",
    "        else:\n",
    "            self._vocab = list(set(words))\n",
    "        return self\n",
    "    \n",
    "    def transform(self, X):\n",
    "        vectors = []\n",
    "        for x in X:\n",
    "            x = TextBlob(x.lower())\n",
    "            word_count = Counter(x.words)\n",
    "            vector = [0] * len(self._vocab)\n",
    "            for word, count in word_count.items():\n",
    "                try:\n",
    "                    idx = self._vocab.index(word)\n",
    "                    vector[idx] = count\n",
    "                except ValueError:\n",
    "                    pass\n",
    "            vectors.append(vector)\n",
    "        return vectors\n",
    "        "
   ]
  },
  {
   "cell_type": "code",
   "execution_count": 9,
   "metadata": {
    "collapsed": false
   },
   "outputs": [
    {
     "name": "stdout",
     "output_type": "stream",
     "text": [
      "['to', 'a', \"'s\", 'your', 'u', 'free', 'been', 'like', 'for', 'mobile']\n"
     ]
    },
    {
     "data": {
      "text/plain": [
       "[[0, 0, 0, 0, 0, 0, 0, 0, 0, 0],\n",
       " [0, 0, 0, 0, 1, 0, 0, 0, 0, 0],\n",
       " [3, 1, 2, 0, 0, 1, 0, 0, 0, 0],\n",
       " [0, 0, 0, 0, 2, 0, 0, 0, 0, 0],\n",
       " [1, 0, 0, 0, 0, 0, 0, 0, 0, 0],\n",
       " [2, 0, 2, 0, 0, 0, 1, 1, 1, 0],\n",
       " [1, 0, 0, 0, 0, 0, 0, 2, 0, 0],\n",
       " [1, 0, 0, 3, 0, 0, 1, 0, 1, 0],\n",
       " [2, 1, 0, 0, 0, 0, 1, 0, 0, 0],\n",
       " [2, 0, 0, 1, 1, 2, 0, 0, 1, 2]]"
      ]
     },
     "execution_count": 9,
     "metadata": {},
     "output_type": "execute_result"
    }
   ],
   "source": [
    "bow = BagOfWordsFeaturizer(10)\n",
    "bow.fit(sms_data[:10])\n",
    "print(bow._vocab)\n",
    "bow.transform(sms_data[:10])"
   ]
  },
  {
   "cell_type": "markdown",
   "metadata": {},
   "source": [
    "Ok, this will work! How do we combine the bag of words vector with the other vector?\n",
    "\n",
    "`sklearn.pipeline.make_union` will do it. It takes multiple vectorizers, runs them in parallel, and combines the results."
   ]
  },
  {
   "cell_type": "code",
   "execution_count": 10,
   "metadata": {
    "collapsed": true
   },
   "outputs": [],
   "source": [
    "sms_featurizer = make_union(\n",
    "    BagOfWordsFeaturizer(20),\n",
    "    FunctionFeaturizer(longest_run_of_capitol_letters_feature,\n",
    "                       percent_character_feature(\".\")))"
   ]
  },
  {
   "cell_type": "code",
   "execution_count": 11,
   "metadata": {
    "collapsed": false
   },
   "outputs": [
    {
     "data": {
      "text/plain": [
       "0.93754486719310837"
      ]
     },
     "execution_count": 11,
     "metadata": {},
     "output_type": "execute_result"
    }
   ],
   "source": [
    "pipe = make_pipeline(sms_featurizer, DecisionTreeClassifier())\n",
    "pipe.fit(X_train, y_train)\n",
    "pipe.score(X_test, y_test)"
   ]
  },
  {
   "cell_type": "markdown",
   "metadata": {},
   "source": [
    "Finally, let's build a debugging transformer. It will just return the data it gets, but will print it out for us."
   ]
  },
  {
   "cell_type": "code",
   "execution_count": 20,
   "metadata": {
    "collapsed": true
   },
   "outputs": [],
   "source": [
    "class PipelineDebugger(TransformerMixin):\n",
    "    def __init__(self, transformer):\n",
    "        self.transformer = transformer\n",
    "        \n",
    "    def fit(self, X, y=None):\n",
    "        self.transformer.fit(X, y)\n",
    "        return self\n",
    "    \n",
    "    def transform(self, X):\n",
    "        print(self.transformer.__class__.__name__)\n",
    "        idx = random.randrange(0, len(X))\n",
    "        print(\"Before\", \"=\" * 40)\n",
    "        print(X[idx])\n",
    "        X = self.transformer.transform(X)\n",
    "        print(\"After \", \"=\" * 40)\n",
    "        print(X[idx])\n",
    "        return X"
   ]
  },
  {
   "cell_type": "code",
   "execution_count": 31,
   "metadata": {
    "collapsed": false
   },
   "outputs": [
    {
     "name": "stdout",
     "output_type": "stream",
     "text": [
      "FunctionFeaturizer\n",
      "Before ========================================\n",
      "LOL .. *grins* .. I'm not babe, but thanks for thinking of me!\n",
      "After  ========================================\n",
      "[ 3.          0.06451613]\n"
     ]
    },
    {
     "data": {
      "text/plain": [
       "Pipeline(steps=[('pipelinedebugger', <__main__.PipelineDebugger object at 0x10eaf4208>), ('decisiontreeclassifier', DecisionTreeClassifier(class_weight=None, criterion='gini', max_depth=None,\n",
       "            max_features=None, max_leaf_nodes=None, min_samples_leaf=1,\n",
       "            min_samples_split=2, min_weight_fraction_leaf=0.0,\n",
       "            random_state=None, splitter='best'))])"
      ]
     },
     "execution_count": 31,
     "metadata": {},
     "output_type": "execute_result"
    }
   ],
   "source": [
    "pipe = make_pipeline(PipelineDebugger(sms_featurizer), DecisionTreeClassifier())\n",
    "pipe.fit(X_train, y_train)"
   ]
  },
  {
   "cell_type": "markdown",
   "metadata": {},
   "source": [
    "Note the length of these vectors -- 22. That's the 20 words from Bag of Words, and the 2 features from FunctionFeaturizer."
   ]
  }
 ],
 "metadata": {
  "kernelspec": {
   "display_name": "Python 3",
   "language": "python",
   "name": "python3"
  },
  "language_info": {
   "codemirror_mode": {
    "name": "ipython",
    "version": 3
   },
   "file_extension": ".py",
   "mimetype": "text/x-python",
   "name": "python",
   "nbconvert_exporter": "python",
   "pygments_lexer": "ipython3",
   "version": "3.4.3"
  }
 },
 "nbformat": 4,
 "nbformat_minor": 0
}
