{
 "cells": [
  {
   "cell_type": "markdown",
   "metadata": {},
   "source": [
    "# JavaScript!\n",
    "\n",
    "## Big Differences vs Python\n",
    "\n",
    "* Significant whitespace vs braces\n",
    "* No namespacing\n",
    "* No classes\n",
    "* All numbers are floats\n",
    "* No list comprehensions\n",
    "\n",
    "---\n",
    "\n",
    "## Small Differences vs Python\n",
    "\n",
    "* `var` to declare variables\n",
    "* `==` vs `===`\n",
    "* `undefined` and `null` vs `None`\n",
    "* dicts vs \"objects\""
   ]
  },
  {
   "cell_type": "markdown",
   "metadata": {},
   "source": [
    "## Using braces\n",
    "\n",
    "```py\n",
    "# Python\n",
    "if name == \"Sam\":\n",
    "    return \"Hi, Sam!\"\n",
    "```\n",
    "\n",
    "```js\n",
    "// JavaScript\n",
    "if (name === \"Sam\") {\n",
    "    return \"Hi, Sam!\";\n",
    "}\n",
    "```"
   ]
  },
  {
   "cell_type": "code",
   "execution_count": 2,
   "metadata": {
    "collapsed": false
   },
   "outputs": [
    {
     "name": "stdout",
     "output_type": "stream",
     "text": [
      "Hi, Autumn!\n"
     ]
    },
    {
     "data": {
      "text/plain": [
       "undefined"
      ]
     },
     "execution_count": 2,
     "metadata": {},
     "output_type": "execute_result"
    }
   ],
   "source": [
    "var name = \"Autumn\";\n",
    "\n",
    "if (name === \"Autumn\") {\n",
    "    console.log(\"Hi, Autumn!\");\n",
    "}"
   ]
  },
  {
   "cell_type": "markdown",
   "metadata": {},
   "source": [
    "## Declaring functions\n",
    "\n",
    "```py\n",
    "# Python\n",
    "def welcome(name):\n",
    "    return \"Hi, \" + name\n",
    "```\n",
    "\n",
    "```js\n",
    "// JavaScript\n",
    "function welcome(name) {\n",
    "    return \"Hi, \" + name;\n",
    "}\n",
    "```"
   ]
  },
  {
   "cell_type": "code",
   "execution_count": 3,
   "metadata": {
    "collapsed": false
   },
   "outputs": [
    {
     "data": {
      "text/plain": [
       "'Hi, Avery'"
      ]
     },
     "execution_count": 3,
     "metadata": {},
     "output_type": "execute_result"
    }
   ],
   "source": [
    "function welcome(name) {\n",
    "    return \"Hi, \" + name;\n",
    "}\n",
    "\n",
    "welcome(\"Avery\");"
   ]
  },
  {
   "cell_type": "markdown",
   "metadata": {},
   "source": [
    "## if-else\n",
    "\n",
    "```python\n",
    "# Python\n",
    "if answer == 1:\n",
    "    return \"Right answer!\"\n",
    "elif answer == 2:\n",
    "    return \"Wrong answer!\"\n",
    "else:\n",
    "    return \"Invalid answer!\"\n",
    "```\n",
    "\n",
    "```javascript\n",
    "// JavaScript\n",
    "if (answer === \"1\") {\n",
    "    return \"Right answer!\"\n",
    "} else if (answer === \"2\") {\n",
    "    return \"Wrong answer!\"\n",
    "} else {\n",
    "    return \"Invalid answer!\"\n",
    "}\n",
    "```"
   ]
  },
  {
   "cell_type": "code",
   "execution_count": 6,
   "metadata": {
    "collapsed": false
   },
   "outputs": [
    {
     "data": {
      "text/plain": [
       "'Right answer!'"
      ]
     },
     "execution_count": 6,
     "metadata": {},
     "output_type": "execute_result"
    }
   ],
   "source": [
    "function checkAnswer(answer) {\n",
    "    if (answer === \"1\") {\n",
    "        return \"Right answer!\"\n",
    "    } else if (answer === \"2\") {\n",
    "        return \"Wrong answer!\"\n",
    "    } else {\n",
    "        return \"Invalid answer!\"\n",
    "    }\n",
    "}\n",
    "\n",
    "checkAnswer(\"1\");"
   ]
  },
  {
   "cell_type": "markdown",
   "metadata": {},
   "source": [
    "## while\n",
    "\n",
    "```py\n",
    "# Python\n",
    "num = 0\n",
    "while num < 3:\n",
    "    num += 1\n",
    "    print(num)\n",
    "```\n",
    "\n",
    "```javascript\n",
    "// JavaScript\n",
    "var num = 0;\n",
    "while (num < 3) {\n",
    "    num++;\n",
    "    console.log(num);\n",
    "}\n",
    "```"
   ]
  },
  {
   "cell_type": "markdown",
   "metadata": {},
   "source": [
    "## for\n",
    "\n",
    "```py\n",
    "# Python\n",
    "for n in range(3):\n",
    "    print(n)\n",
    "```\n",
    "\n",
    "```javascript\n",
    "// JavaScript\n",
    "for (var n = 0; n < 3; n++) {\n",
    "    console.log(n);\n",
    "}\n",
    "```"
   ]
  },
  {
   "cell_type": "markdown",
   "metadata": {},
   "source": [
    "## Declaring variables\n",
    "\n",
    "You must _always_ use `var` before declaring a variable the first time. If you don't, it will work, but not do what you expect.\n",
    "\n",
    "```javascript\n",
    "// Good\n",
    "var x = 1;\n",
    "\n",
    "// BAD\n",
    "y = 1;\n",
    "```"
   ]
  },
  {
   "cell_type": "markdown",
   "metadata": {
    "collapsed": true
   },
   "source": [
    "## What's this `===`?\n",
    "\n",
    "JavaScript is not very strict about types, so `==` will say that many things are equal.\n",
    "\n",
    "https://dorey.github.io/JavaScript-Equality-Table/\n",
    "\n",
    "`===` does no conversions."
   ]
  },
  {
   "cell_type": "markdown",
   "metadata": {},
   "source": [
    "## Type coercion\n",
    "\n",
    "```py\n",
    "# Python\n",
    ">>> 1 + \"\"\n",
    "Traceback (most recent call last):\n",
    "  File \"<stdin>\", line 1, in <module>\n",
    "TypeError: unsupported operand type(s) for +: 'int' and 'str'\n",
    "```\n",
    "\n",
    "```js\n",
    "// JavaScript\n",
    "> 1 + \"\"\n",
    "'1'\n",
    "```"
   ]
  },
  {
   "cell_type": "markdown",
   "metadata": {},
   "source": [
    "## More type coercion\n",
    "\n",
    "```js\n",
    "1 + \"\"     // => '1'\n",
    "[] + 0     // => '0'\n",
    "0 + {}     // => '0[object Object]'\n",
    "{} + 0     // => 0\n",
    "\"\" + false // => 'false'\n",
    "0 + false  // => 0\n",
    "0 + true   // => 1\n",
    "[] + {}    // => '[object Object]'\n",
    "{} + []    // => 0\n",
    "```"
   ]
  },
  {
   "cell_type": "markdown",
   "metadata": {},
   "source": [
    "## Functions are everything\n",
    "\n",
    "Functions can be:\n",
    "\n",
    "* assigned to variables\n",
    "* passed as arguments\n",
    "* returned from functions\n",
    "\n",
    "This is not that different from Python, but often looks different."
   ]
  },
  {
   "cell_type": "markdown",
   "metadata": {},
   "source": [
    "## Anonymous Functions\n",
    "\n",
    "```py\n",
    "# Python\n",
    "welcome = lambda thing: \"Hello \" + thing + \"!\"\n",
    "\n",
    "welcome(\"class\")\n",
    "```\n",
    "\n",
    "```javascript\n",
    "// JavaScript\n",
    "var welcome = function (thing) {\n",
    "  return \"Hello \" + thing + \"!\";\n",
    "}\n",
    "\n",
    "welcome(\"class\");\n",
    "```"
   ]
  },
  {
   "cell_type": "markdown",
   "metadata": {},
   "source": [
    "## Functions as arguments\n",
    "\n",
    "```py\n",
    "# Python\n",
    "def print_cube(x):\n",
    "    print(x * x * x)\n",
    "\n",
    "for number in [1, 2, 3]:\n",
    "    print_cube(number)\n",
    "```\n",
    "\n",
    "```javascript\n",
    "// JavaScript\n",
    "[1, 2, 3].forEach(function (number) {\n",
    "  console.log(number * number * number);\n",
    "});\n",
    "```"
   ]
  },
  {
   "cell_type": "markdown",
   "metadata": {},
   "source": [
    "## Returning functions\n",
    "\n",
    "```javascript\n",
    "function greet(greeting) {\n",
    "  return function() {\n",
    "    return greeting + \" world!\";\n",
    "  };\n",
    "}\n",
    "\n",
    "var hello = greet(\"Hello\");\n",
    "var goodbye = greet(\"Goodbye\");\n",
    "\n",
    "hello(); // Hello world!\n",
    "goodbye(); // Goodbye world!\n",
    "```"
   ]
  },
  {
   "cell_type": "markdown",
   "metadata": {},
   "source": [
    "## Map vs list comprehensions\n",
    "\n",
    "```py\n",
    "# Python\n",
    "[x * 2 for x in [1, 2, 3, 4]]\n",
    "```\n",
    "\n",
    "```js\n",
    "// JavaScript\n",
    "[1, 2, 3, 4].map(function (x) { return x * 2 })\n",
    "```"
   ]
  },
  {
   "cell_type": "markdown",
   "metadata": {},
   "source": [
    "## Filter vs list comprehensions\n",
    "\n",
    "```py\n",
    "# Python\n",
    "[x for x in [1, 2, 3, 4] if x % 2 == 0]\n",
    "```\n",
    "\n",
    "```js\n",
    "// JavaScript\n",
    "[1, 2, 3, 4].filter(function (x) { return x % 2 === 0 })\n",
    "```"
   ]
  },
  {
   "cell_type": "markdown",
   "metadata": {},
   "source": [
    "\n",
    "## Map and filter vs list comprehensions\n",
    "\n",
    "```py\n",
    "# Python\n",
    "[x * 2 for x in [1, 2, 3, 4] if x % 2 == 0]\n",
    "```\n",
    "\n",
    "```js\n",
    "// JavaScript\n",
    "[1, 2, 3, 4].\n",
    "    filter(function (x) { return x % 2 === 0 }).\n",
    "    map(function (x) { return x * 2 })\n",
    "```"
   ]
  },
  {
   "cell_type": "markdown",
   "metadata": {},
   "source": [
    "## Objects\n",
    "\n",
    "```js\n",
    "// JavaScript\n",
    "var dog = {\n",
    "    name: \"Fido\",\n",
    "    talk: function () { return \"bark\" }\n",
    "}\n",
    "\n",
    "dog.name; // => \"Fido\"\n",
    "dog['name']; // => \"Fido\"\n",
    "dog.talk(); // => \"bark\"\n",
    "dog['talk'](); // => \"bark\"\n",
    "```\n",
    "\n",
    "```python\n",
    "# Python dicts\n",
    "dog = {\n",
    "    \"name\": \"Fido\",\n",
    "    \"talk\": lambda: \"bark\"\n",
    "}\n",
    "\n",
    "dog[\"name\"] # => \"Fido\"\n",
    "dog[\"talk\"]() # => \"bark\"\n",
    "```\n",
    "\n",
    "```python\n",
    "# Python objects\n",
    "class Dog:\n",
    "    def __init__(self, name):\n",
    "        self.name = name\n",
    "        \n",
    "    def talk(self):\n",
    "        return \"bark\"\n",
    "        \n",
    "dog = Dog(\"Fido\")\n",
    "dog.name #=> \"Fido\"\n",
    "dog.talk() #=> \"bark\"\n",
    "```\n",
    "---"
   ]
  },
  {
   "cell_type": "markdown",
   "metadata": {},
   "source": [
    "## JavaScript and the DOM\n",
    "\n",
    "---\n",
    "\n",
    "## The Document Object Model\n",
    "\n",
    "HTML is read and turned into a tree of nodes. The DOM is that tree.\n",
    "\n",
    "Each node has properties and methods accessible via JavaScript.\n",
    "\n",
    "---\n",
    "\n",
    "## `window` and `document`\n",
    "\n",
    "These are always available in the DOM.\n",
    "\n",
    "* `window` is the window containing the DOM document. It is the top-level object and everything on it is available globally.\n",
    "* `document` is the DOM document. It is at the top of the tree and all DOM nodes are under it.\n",
    "\n",
    "---\n",
    "\n",
    "## Elements\n",
    "\n",
    "Each HTML tag gets turned into an element. Some common attributes and methods:\n",
    "\n",
    "* `.id`\n",
    "* `.innerHTML`\n",
    "* `.parent`\n",
    "* `.children`\n",
    "* `.addEventListener(eventType, callback)`\n",
    "\n",
    "---\n",
    "\n",
    "## Resources\n",
    "\n",
    "* [REPLit](http://repl.it/)\n",
    "* [JSBin](http://jsbin.com)\n",
    "* [Mozilla Developer Network - JavaScript](https://developer.mozilla.org/en-US/docs/Web/JavaScript)\n",
    "* [jQuery](https://jquery.com/)"
   ]
  },
  {
   "cell_type": "markdown",
   "metadata": {},
   "source": [
    "## Front-end setup\n",
    "\n",
    "```\n",
    "brew install python3\n",
    "```\n",
    "\n",
    "Inside a Django project:\n",
    "\n",
    "* `pip3 install -r dev_requirements.txt`  -- installs requirements\n",
    "* `python3 manage.py runserver` -- runs server"
   ]
  },
  {
   "cell_type": "code",
   "execution_count": null,
   "metadata": {
    "collapsed": true
   },
   "outputs": [],
   "source": []
  }
 ],
 "metadata": {
  "kernelspec": {
   "display_name": "Javascript (Node.js)",
   "language": "javascript",
   "name": "javascript"
  },
  "language_info": {
   "file_extension": "js",
   "mimetype": "application/javascript",
   "name": "javascript",
   "version": "0.12.5"
  }
 },
 "nbformat": 4,
 "nbformat_minor": 0
}
